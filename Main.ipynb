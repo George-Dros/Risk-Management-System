{
 "cells": [
  {
   "cell_type": "markdown",
   "id": "01955a48-5e26-4e02-8802-e719c9263335",
   "metadata": {},
   "source": [
    "# Risk Management Project"
   ]
  },
  {
   "cell_type": "markdown",
   "id": "22c097df-0564-4c07-83c0-ca1d011d40d4",
   "metadata": {},
   "source": [
    "### 1. Import Data from yfinance"
   ]
  },
  {
   "cell_type": "code",
   "execution_count": 3,
   "id": "b9d23613-15dd-4d45-bf04-3bb97212a5b9",
   "metadata": {},
   "outputs": [],
   "source": [
    "import functions as f\n",
    "import pandas as pd\n",
    "import yfinance as yf\n",
    "import numpy as np\n",
    "import matplotlib.pyplot as plt\n",
    "\n",
    "%load_ext autoreload\n",
    "%autoreload 2"
   ]
  },
  {
   "cell_type": "code",
   "execution_count": 4,
   "id": "1f4a69f5-007d-409f-a8be-964c0c86ce5e",
   "metadata": {},
   "outputs": [
    {
     "name": "stderr",
     "output_type": "stream",
     "text": [
      "[*********************100%***********************]  5 of 5 completed\n"
     ]
    }
   ],
   "source": [
    "tickers = ['JNJ', 'XOM', 'TLT', 'GLD', 'AAPL']\n",
    "start_date = \"2018-01-01\"\n",
    "end_date = \"2023-01-01\"\n",
    "\n",
    "# Download adjusted close prices from Yahoo Finance for a 5-year range\n",
    "data = yf.download(tickers, start=start_date, end=end_date)['Adj Close']"
   ]
  },
  {
   "cell_type": "code",
   "execution_count": 5,
   "id": "eba3cffe-d431-4935-b03b-257864ebe2f6",
   "metadata": {},
   "outputs": [
    {
     "name": "stdout",
     "output_type": "stream",
     "text": [
      "Missing values per ticker:\n",
      " Ticker\n",
      "AAPL    0\n",
      "GLD     0\n",
      "JNJ     0\n",
      "TLT     0\n",
      "XOM     0\n",
      "dtype: int64\n"
     ]
    }
   ],
   "source": [
    "missing_data = data.isnull().sum()\n",
    "print(\"Missing values per ticker:\\n\", missing_data)"
   ]
  },
  {
   "cell_type": "code",
   "execution_count": 6,
   "id": "e9802f03-4cab-4fcc-9790-3b33e21bd9ec",
   "metadata": {},
   "outputs": [],
   "source": [
    "portfolio_weights = np.array([0.25,  0.20, 0.25,  0.15, 0.15])\n",
    "risk_free_ratio = 0.05"
   ]
  },
  {
   "cell_type": "code",
   "execution_count": 7,
   "id": "6b431f4a-7964-4359-b00d-ab21cbabf9de",
   "metadata": {},
   "outputs": [
    {
     "data": {
      "text/html": [
       "<div>\n",
       "<style scoped>\n",
       "    .dataframe tbody tr th:only-of-type {\n",
       "        vertical-align: middle;\n",
       "    }\n",
       "\n",
       "    .dataframe tbody tr th {\n",
       "        vertical-align: top;\n",
       "    }\n",
       "\n",
       "    .dataframe thead th {\n",
       "        text-align: right;\n",
       "    }\n",
       "</style>\n",
       "<table border=\"1\" class=\"dataframe\">\n",
       "  <thead>\n",
       "    <tr style=\"text-align: right;\">\n",
       "      <th>Ticker</th>\n",
       "      <th>AAPL</th>\n",
       "      <th>GLD</th>\n",
       "      <th>JNJ</th>\n",
       "      <th>TLT</th>\n",
       "      <th>XOM</th>\n",
       "    </tr>\n",
       "    <tr>\n",
       "      <th>Date</th>\n",
       "      <th></th>\n",
       "      <th></th>\n",
       "      <th></th>\n",
       "      <th></th>\n",
       "      <th></th>\n",
       "    </tr>\n",
       "  </thead>\n",
       "  <tbody>\n",
       "    <tr>\n",
       "      <th>2018-01-02 00:00:00+00:00</th>\n",
       "      <td>40.524349</td>\n",
       "      <td>125.150002</td>\n",
       "      <td>115.682434</td>\n",
       "      <td>106.164879</td>\n",
       "      <td>61.637543</td>\n",
       "    </tr>\n",
       "    <tr>\n",
       "      <th>2018-01-03 00:00:00+00:00</th>\n",
       "      <td>40.517273</td>\n",
       "      <td>124.820000</td>\n",
       "      <td>116.787491</td>\n",
       "      <td>106.672485</td>\n",
       "      <td>62.848110</td>\n",
       "    </tr>\n",
       "    <tr>\n",
       "      <th>2018-01-04 00:00:00+00:00</th>\n",
       "      <td>40.705482</td>\n",
       "      <td>125.459999</td>\n",
       "      <td>116.779175</td>\n",
       "      <td>106.655540</td>\n",
       "      <td>62.935104</td>\n",
       "    </tr>\n",
       "    <tr>\n",
       "      <th>2018-01-05 00:00:00+00:00</th>\n",
       "      <td>41.168934</td>\n",
       "      <td>125.330002</td>\n",
       "      <td>117.742996</td>\n",
       "      <td>106.351006</td>\n",
       "      <td>62.884357</td>\n",
       "    </tr>\n",
       "    <tr>\n",
       "      <th>2018-01-08 00:00:00+00:00</th>\n",
       "      <td>41.016033</td>\n",
       "      <td>125.309998</td>\n",
       "      <td>117.892563</td>\n",
       "      <td>106.283325</td>\n",
       "      <td>63.167084</td>\n",
       "    </tr>\n",
       "    <tr>\n",
       "      <th>...</th>\n",
       "      <td>...</td>\n",
       "      <td>...</td>\n",
       "      <td>...</td>\n",
       "      <td>...</td>\n",
       "      <td>...</td>\n",
       "    </tr>\n",
       "    <tr>\n",
       "      <th>2022-12-23 00:00:00+00:00</th>\n",
       "      <td>130.487793</td>\n",
       "      <td>167.259995</td>\n",
       "      <td>168.306671</td>\n",
       "      <td>95.841949</td>\n",
       "      <td>102.460426</td>\n",
       "    </tr>\n",
       "    <tr>\n",
       "      <th>2022-12-27 00:00:00+00:00</th>\n",
       "      <td>128.676834</td>\n",
       "      <td>168.669998</td>\n",
       "      <td>168.259232</td>\n",
       "      <td>93.946854</td>\n",
       "      <td>103.884010</td>\n",
       "    </tr>\n",
       "    <tr>\n",
       "      <th>2022-12-28 00:00:00+00:00</th>\n",
       "      <td>124.728371</td>\n",
       "      <td>167.910004</td>\n",
       "      <td>167.529053</td>\n",
       "      <td>93.393356</td>\n",
       "      <td>102.177597</td>\n",
       "    </tr>\n",
       "    <tr>\n",
       "      <th>2022-12-29 00:00:00+00:00</th>\n",
       "      <td>128.261215</td>\n",
       "      <td>168.850006</td>\n",
       "      <td>168.382553</td>\n",
       "      <td>94.453461</td>\n",
       "      <td>102.950668</td>\n",
       "    </tr>\n",
       "    <tr>\n",
       "      <th>2022-12-30 00:00:00+00:00</th>\n",
       "      <td>128.577881</td>\n",
       "      <td>169.639999</td>\n",
       "      <td>167.519577</td>\n",
       "      <td>93.402733</td>\n",
       "      <td>103.987709</td>\n",
       "    </tr>\n",
       "  </tbody>\n",
       "</table>\n",
       "<p>1259 rows × 5 columns</p>\n",
       "</div>"
      ],
      "text/plain": [
       "Ticker                           AAPL         GLD         JNJ         TLT  \\\n",
       "Date                                                                        \n",
       "2018-01-02 00:00:00+00:00   40.524349  125.150002  115.682434  106.164879   \n",
       "2018-01-03 00:00:00+00:00   40.517273  124.820000  116.787491  106.672485   \n",
       "2018-01-04 00:00:00+00:00   40.705482  125.459999  116.779175  106.655540   \n",
       "2018-01-05 00:00:00+00:00   41.168934  125.330002  117.742996  106.351006   \n",
       "2018-01-08 00:00:00+00:00   41.016033  125.309998  117.892563  106.283325   \n",
       "...                               ...         ...         ...         ...   \n",
       "2022-12-23 00:00:00+00:00  130.487793  167.259995  168.306671   95.841949   \n",
       "2022-12-27 00:00:00+00:00  128.676834  168.669998  168.259232   93.946854   \n",
       "2022-12-28 00:00:00+00:00  124.728371  167.910004  167.529053   93.393356   \n",
       "2022-12-29 00:00:00+00:00  128.261215  168.850006  168.382553   94.453461   \n",
       "2022-12-30 00:00:00+00:00  128.577881  169.639999  167.519577   93.402733   \n",
       "\n",
       "Ticker                            XOM  \n",
       "Date                                   \n",
       "2018-01-02 00:00:00+00:00   61.637543  \n",
       "2018-01-03 00:00:00+00:00   62.848110  \n",
       "2018-01-04 00:00:00+00:00   62.935104  \n",
       "2018-01-05 00:00:00+00:00   62.884357  \n",
       "2018-01-08 00:00:00+00:00   63.167084  \n",
       "...                               ...  \n",
       "2022-12-23 00:00:00+00:00  102.460426  \n",
       "2022-12-27 00:00:00+00:00  103.884010  \n",
       "2022-12-28 00:00:00+00:00  102.177597  \n",
       "2022-12-29 00:00:00+00:00  102.950668  \n",
       "2022-12-30 00:00:00+00:00  103.987709  \n",
       "\n",
       "[1259 rows x 5 columns]"
      ]
     },
     "execution_count": 7,
     "metadata": {},
     "output_type": "execute_result"
    }
   ],
   "source": [
    "data"
   ]
  },
  {
   "cell_type": "markdown",
   "id": "8260bb3c-f5fa-465c-9c89-3f8eda18be22",
   "metadata": {},
   "source": [
    "### 2. Calculate Portfolio Returns and Covariance Matrix"
   ]
  },
  {
   "cell_type": "code",
   "execution_count": 9,
   "id": "92234ae5-2a9a-443e-8f20-3204da04c7df",
   "metadata": {},
   "outputs": [
    {
     "data": {
      "text/html": [
       "<div>\n",
       "<style scoped>\n",
       "    .dataframe tbody tr th:only-of-type {\n",
       "        vertical-align: middle;\n",
       "    }\n",
       "\n",
       "    .dataframe tbody tr th {\n",
       "        vertical-align: top;\n",
       "    }\n",
       "\n",
       "    .dataframe thead th {\n",
       "        text-align: right;\n",
       "    }\n",
       "</style>\n",
       "<table border=\"1\" class=\"dataframe\">\n",
       "  <thead>\n",
       "    <tr style=\"text-align: right;\">\n",
       "      <th>Ticker</th>\n",
       "      <th>AAPL</th>\n",
       "      <th>GLD</th>\n",
       "      <th>JNJ</th>\n",
       "      <th>TLT</th>\n",
       "      <th>XOM</th>\n",
       "    </tr>\n",
       "    <tr>\n",
       "      <th>Date</th>\n",
       "      <th></th>\n",
       "      <th></th>\n",
       "      <th></th>\n",
       "      <th></th>\n",
       "      <th></th>\n",
       "    </tr>\n",
       "  </thead>\n",
       "  <tbody>\n",
       "    <tr>\n",
       "      <th>2018-01-03 00:00:00+00:00</th>\n",
       "      <td>-0.000175</td>\n",
       "      <td>-0.002637</td>\n",
       "      <td>0.009553</td>\n",
       "      <td>0.004781</td>\n",
       "      <td>0.019640</td>\n",
       "    </tr>\n",
       "    <tr>\n",
       "      <th>2018-01-04 00:00:00+00:00</th>\n",
       "      <td>0.004645</td>\n",
       "      <td>0.005127</td>\n",
       "      <td>-0.000071</td>\n",
       "      <td>-0.000159</td>\n",
       "      <td>0.001384</td>\n",
       "    </tr>\n",
       "    <tr>\n",
       "      <th>2018-01-05 00:00:00+00:00</th>\n",
       "      <td>0.011385</td>\n",
       "      <td>-0.001036</td>\n",
       "      <td>0.008253</td>\n",
       "      <td>-0.002855</td>\n",
       "      <td>-0.000806</td>\n",
       "    </tr>\n",
       "    <tr>\n",
       "      <th>2018-01-08 00:00:00+00:00</th>\n",
       "      <td>-0.003714</td>\n",
       "      <td>-0.000160</td>\n",
       "      <td>0.001270</td>\n",
       "      <td>-0.000636</td>\n",
       "      <td>0.004496</td>\n",
       "    </tr>\n",
       "    <tr>\n",
       "      <th>2018-01-09 00:00:00+00:00</th>\n",
       "      <td>-0.000115</td>\n",
       "      <td>-0.004628</td>\n",
       "      <td>0.015857</td>\n",
       "      <td>-0.013373</td>\n",
       "      <td>-0.004246</td>\n",
       "    </tr>\n",
       "    <tr>\n",
       "      <th>...</th>\n",
       "      <td>...</td>\n",
       "      <td>...</td>\n",
       "      <td>...</td>\n",
       "      <td>...</td>\n",
       "      <td>...</td>\n",
       "    </tr>\n",
       "    <tr>\n",
       "      <th>2022-12-23 00:00:00+00:00</th>\n",
       "      <td>-0.002798</td>\n",
       "      <td>0.002998</td>\n",
       "      <td>0.002542</td>\n",
       "      <td>-0.014660</td>\n",
       "      <td>0.026445</td>\n",
       "    </tr>\n",
       "    <tr>\n",
       "      <th>2022-12-27 00:00:00+00:00</th>\n",
       "      <td>-0.013878</td>\n",
       "      <td>0.008430</td>\n",
       "      <td>-0.000282</td>\n",
       "      <td>-0.019773</td>\n",
       "      <td>0.013894</td>\n",
       "    </tr>\n",
       "    <tr>\n",
       "      <th>2022-12-28 00:00:00+00:00</th>\n",
       "      <td>-0.030685</td>\n",
       "      <td>-0.004506</td>\n",
       "      <td>-0.004340</td>\n",
       "      <td>-0.005892</td>\n",
       "      <td>-0.016426</td>\n",
       "    </tr>\n",
       "    <tr>\n",
       "      <th>2022-12-29 00:00:00+00:00</th>\n",
       "      <td>0.028324</td>\n",
       "      <td>0.005598</td>\n",
       "      <td>0.005095</td>\n",
       "      <td>0.011351</td>\n",
       "      <td>0.007566</td>\n",
       "    </tr>\n",
       "    <tr>\n",
       "      <th>2022-12-30 00:00:00+00:00</th>\n",
       "      <td>0.002469</td>\n",
       "      <td>0.004679</td>\n",
       "      <td>-0.005125</td>\n",
       "      <td>-0.011124</td>\n",
       "      <td>0.010073</td>\n",
       "    </tr>\n",
       "  </tbody>\n",
       "</table>\n",
       "<p>1258 rows × 5 columns</p>\n",
       "</div>"
      ],
      "text/plain": [
       "Ticker                         AAPL       GLD       JNJ       TLT       XOM\n",
       "Date                                                                       \n",
       "2018-01-03 00:00:00+00:00 -0.000175 -0.002637  0.009553  0.004781  0.019640\n",
       "2018-01-04 00:00:00+00:00  0.004645  0.005127 -0.000071 -0.000159  0.001384\n",
       "2018-01-05 00:00:00+00:00  0.011385 -0.001036  0.008253 -0.002855 -0.000806\n",
       "2018-01-08 00:00:00+00:00 -0.003714 -0.000160  0.001270 -0.000636  0.004496\n",
       "2018-01-09 00:00:00+00:00 -0.000115 -0.004628  0.015857 -0.013373 -0.004246\n",
       "...                             ...       ...       ...       ...       ...\n",
       "2022-12-23 00:00:00+00:00 -0.002798  0.002998  0.002542 -0.014660  0.026445\n",
       "2022-12-27 00:00:00+00:00 -0.013878  0.008430 -0.000282 -0.019773  0.013894\n",
       "2022-12-28 00:00:00+00:00 -0.030685 -0.004506 -0.004340 -0.005892 -0.016426\n",
       "2022-12-29 00:00:00+00:00  0.028324  0.005598  0.005095  0.011351  0.007566\n",
       "2022-12-30 00:00:00+00:00  0.002469  0.004679 -0.005125 -0.011124  0.010073\n",
       "\n",
       "[1258 rows x 5 columns]"
      ]
     },
     "execution_count": 9,
     "metadata": {},
     "output_type": "execute_result"
    }
   ],
   "source": [
    "daily_returns = data.pct_change().dropna()\n",
    "daily_returns"
   ]
  },
  {
   "cell_type": "code",
   "execution_count": 10,
   "id": "de57159b-64b3-4ce5-930a-2e81a77692e1",
   "metadata": {},
   "outputs": [
    {
     "data": {
      "text/plain": [
       "Date\n",
       "2018-01-03 00:00:00+00:00    0.005480\n",
       "2018-01-04 00:00:00+00:00    0.002353\n",
       "2018-01-05 00:00:00+00:00    0.004153\n",
       "2018-01-08 00:00:00+00:00   -0.000064\n",
       "2018-01-09 00:00:00+00:00    0.000367\n",
       "                               ...   \n",
       "2022-12-23 00:00:00+00:00    0.002303\n",
       "2022-12-27 00:00:00+00:00   -0.002736\n",
       "2022-12-28 00:00:00+00:00   -0.013005\n",
       "2022-12-29 00:00:00+00:00    0.012312\n",
       "2022-12-30 00:00:00+00:00    0.000114\n",
       "Length: 1258, dtype: float64"
      ]
     },
     "execution_count": 10,
     "metadata": {},
     "output_type": "execute_result"
    }
   ],
   "source": [
    "portfolio_rets = f.portfolio_return(portfolio_weights, daily_returns.T)\n",
    "portfolio_rets"
   ]
  },
  {
   "cell_type": "code",
   "execution_count": 11,
   "id": "d4b1156a-3efe-46d0-bb5a-044e0f39bfcb",
   "metadata": {},
   "outputs": [],
   "source": [
    "correlation_matrix = daily_returns.corr()\n",
    "covariance_matrix = daily_returns.cov()"
   ]
  },
  {
   "cell_type": "code",
   "execution_count": 12,
   "id": "903e4665-b021-493b-b512-fb660324b04d",
   "metadata": {},
   "outputs": [
    {
     "data": {
      "text/html": [
       "<div>\n",
       "<style scoped>\n",
       "    .dataframe tbody tr th:only-of-type {\n",
       "        vertical-align: middle;\n",
       "    }\n",
       "\n",
       "    .dataframe tbody tr th {\n",
       "        vertical-align: top;\n",
       "    }\n",
       "\n",
       "    .dataframe thead th {\n",
       "        text-align: right;\n",
       "    }\n",
       "</style>\n",
       "<table border=\"1\" class=\"dataframe\">\n",
       "  <thead>\n",
       "    <tr style=\"text-align: right;\">\n",
       "      <th>Ticker</th>\n",
       "      <th>AAPL</th>\n",
       "      <th>GLD</th>\n",
       "      <th>JNJ</th>\n",
       "      <th>TLT</th>\n",
       "      <th>XOM</th>\n",
       "    </tr>\n",
       "    <tr>\n",
       "      <th>Ticker</th>\n",
       "      <th></th>\n",
       "      <th></th>\n",
       "      <th></th>\n",
       "      <th></th>\n",
       "      <th></th>\n",
       "    </tr>\n",
       "  </thead>\n",
       "  <tbody>\n",
       "    <tr>\n",
       "      <th>AAPL</th>\n",
       "      <td>0.000445</td>\n",
       "      <td>0.000016</td>\n",
       "      <td>0.000116</td>\n",
       "      <td>-0.000037</td>\n",
       "      <td>0.000156</td>\n",
       "    </tr>\n",
       "    <tr>\n",
       "      <th>GLD</th>\n",
       "      <td>0.000016</td>\n",
       "      <td>0.000082</td>\n",
       "      <td>0.000005</td>\n",
       "      <td>0.000026</td>\n",
       "      <td>0.000013</td>\n",
       "    </tr>\n",
       "    <tr>\n",
       "      <th>JNJ</th>\n",
       "      <td>0.000116</td>\n",
       "      <td>0.000005</td>\n",
       "      <td>0.000173</td>\n",
       "      <td>-0.000029</td>\n",
       "      <td>0.000095</td>\n",
       "    </tr>\n",
       "    <tr>\n",
       "      <th>TLT</th>\n",
       "      <td>-0.000037</td>\n",
       "      <td>0.000026</td>\n",
       "      <td>-0.000029</td>\n",
       "      <td>0.000103</td>\n",
       "      <td>-0.000066</td>\n",
       "    </tr>\n",
       "    <tr>\n",
       "      <th>XOM</th>\n",
       "      <td>0.000156</td>\n",
       "      <td>0.000013</td>\n",
       "      <td>0.000095</td>\n",
       "      <td>-0.000066</td>\n",
       "      <td>0.000455</td>\n",
       "    </tr>\n",
       "  </tbody>\n",
       "</table>\n",
       "</div>"
      ],
      "text/plain": [
       "Ticker      AAPL       GLD       JNJ       TLT       XOM\n",
       "Ticker                                                  \n",
       "AAPL    0.000445  0.000016  0.000116 -0.000037  0.000156\n",
       "GLD     0.000016  0.000082  0.000005  0.000026  0.000013\n",
       "JNJ     0.000116  0.000005  0.000173 -0.000029  0.000095\n",
       "TLT    -0.000037  0.000026 -0.000029  0.000103 -0.000066\n",
       "XOM     0.000156  0.000013  0.000095 -0.000066  0.000455"
      ]
     },
     "execution_count": 12,
     "metadata": {},
     "output_type": "execute_result"
    }
   ],
   "source": [
    "covariance_matrix"
   ]
  },
  {
   "cell_type": "code",
   "execution_count": 13,
   "id": "25f8901d-b522-4325-b265-5bacf5510a92",
   "metadata": {},
   "outputs": [],
   "source": [
    "portfolio_volatility = f.portfolio_vol(portfolio_weights, covariance_matrix)"
   ]
  },
  {
   "cell_type": "code",
   "execution_count": 14,
   "id": "4f674001-ff0d-4207-8e2f-96d5729f94d5",
   "metadata": {},
   "outputs": [
    {
     "data": {
      "text/plain": [
       "0.009181508998602749"
      ]
     },
     "execution_count": 14,
     "metadata": {},
     "output_type": "execute_result"
    }
   ],
   "source": [
    "portfolio_volatility"
   ]
  },
  {
   "cell_type": "markdown",
   "id": "2f27e2e9-a257-4606-8190-8167d5b881f4",
   "metadata": {},
   "source": [
    "### 3. VaR Calculation"
   ]
  },
  {
   "cell_type": "markdown",
   "id": "293a1b2a-37af-47fd-aa47-9afd758d41ec",
   "metadata": {},
   "source": [
    "#### a. Historical VaR"
   ]
  },
  {
   "cell_type": "code",
   "execution_count": 17,
   "id": "f0265b08-59dc-4772-9da5-a4f354e6c412",
   "metadata": {},
   "outputs": [
    {
     "data": {
      "text/plain": [
       "0.013887333096252246"
      ]
     },
     "execution_count": 17,
     "metadata": {},
     "output_type": "execute_result"
    }
   ],
   "source": [
    "var_historic = f.var_historic(portfolio_rets, level=5)\n",
    "var_historic"
   ]
  },
  {
   "cell_type": "markdown",
   "id": "556b659f-9b62-46f9-81be-4b3872cd47de",
   "metadata": {},
   "source": [
    "#### b. Gaussian VaR"
   ]
  },
  {
   "cell_type": "code",
   "execution_count": 19,
   "id": "e30b8934-f199-4648-a966-02255a639027",
   "metadata": {},
   "outputs": [
    {
     "data": {
      "text/plain": [
       "0.014570325114383517"
      ]
     },
     "execution_count": 19,
     "metadata": {},
     "output_type": "execute_result"
    }
   ],
   "source": [
    "var_gaussian = f.var_gaussian(portfolio_rets, level=5, modified=False)\n",
    "var_gaussian"
   ]
  },
  {
   "cell_type": "markdown",
   "id": "ca3f9656-7c15-4618-a3d1-49d48cbcc217",
   "metadata": {},
   "source": [
    "#### c. Cornish-Fisher VaR"
   ]
  },
  {
   "cell_type": "code",
   "execution_count": 21,
   "id": "9cf97bf6-eb4a-455f-89c8-e235128f24a7",
   "metadata": {},
   "outputs": [],
   "source": [
    "skewness = f.skewness(portfolio_rets)\n",
    "kurtosis = f.kurtosis(portfolio_rets)"
   ]
  },
  {
   "cell_type": "code",
   "execution_count": 22,
   "id": "4078d67b-e818-4837-aae9-8938bca10d16",
   "metadata": {},
   "outputs": [
    {
     "data": {
      "text/plain": [
       "-0.16098667355541477"
      ]
     },
     "execution_count": 22,
     "metadata": {},
     "output_type": "execute_result"
    }
   ],
   "source": [
    "skewness"
   ]
  },
  {
   "cell_type": "code",
   "execution_count": 23,
   "id": "b6ca72cf-a13c-4896-b978-a2e4311a7a43",
   "metadata": {},
   "outputs": [
    {
     "data": {
      "text/plain": [
       "10.213905045413654"
      ]
     },
     "execution_count": 23,
     "metadata": {},
     "output_type": "execute_result"
    }
   ],
   "source": [
    "kurtosis"
   ]
  },
  {
   "cell_type": "code",
   "execution_count": 24,
   "id": "83dd062b-530d-40a2-9248-ab2857bab01e",
   "metadata": {},
   "outputs": [
    {
     "data": {
      "text/plain": [
       "0.01364972025299694"
      ]
     },
     "execution_count": 24,
     "metadata": {},
     "output_type": "execute_result"
    }
   ],
   "source": [
    "var_cornish_fisher = f.var_gaussian(portfolio_rets, level=5, modified=True)\n",
    "var_cornish_fisher"
   ]
  },
  {
   "cell_type": "markdown",
   "id": "2313105a-2a43-4ff4-bbcf-02053db3a26c",
   "metadata": {},
   "source": [
    "### 4. CVaR Calculation"
   ]
  },
  {
   "cell_type": "markdown",
   "id": "16f58052-56a5-4067-9ffb-cf1ecb8fcccf",
   "metadata": {},
   "source": [
    "#### a. Historical CVaR  "
   ]
  },
  {
   "cell_type": "code",
   "execution_count": 27,
   "id": "4e0d8d31-f675-4aff-a3a8-2b611726606b",
   "metadata": {},
   "outputs": [
    {
     "data": {
      "text/plain": [
       "0.021733807533968884"
      ]
     },
     "execution_count": 27,
     "metadata": {},
     "output_type": "execute_result"
    }
   ],
   "source": [
    "cvar_historic = f.cvar_historic(portfolio_rets, level=5)\n",
    "cvar_historic"
   ]
  },
  {
   "cell_type": "markdown",
   "id": "cdb5f417-0ddb-43e7-8f5c-c171ed17c8d9",
   "metadata": {},
   "source": [
    "#### b. Gaussian CVaR"
   ]
  },
  {
   "cell_type": "code",
   "execution_count": 29,
   "id": "17b2e0b4-a858-422c-abb0-9acc761886dc",
   "metadata": {},
   "outputs": [
    {
     "data": {
      "text/plain": [
       "-0.0015222931350765577"
      ]
     },
     "execution_count": 29,
     "metadata": {},
     "output_type": "execute_result"
    }
   ],
   "source": [
    "cvar_gaussian = f.cvar_gaussian(portfolio_rets, level=5, modified=False)\n",
    "cvar_gaussian"
   ]
  },
  {
   "cell_type": "markdown",
   "id": "7a95543f-de8d-4a6b-897e-871e90f04d8c",
   "metadata": {},
   "source": [
    "### 5. Maximum Drawdown (MDD)"
   ]
  },
  {
   "cell_type": "code",
   "execution_count": 37,
   "id": "7a077a39-b9b4-4537-8ce3-09a9e6f47b6c",
   "metadata": {},
   "outputs": [],
   "source": [
    "drawdowns = f.drawdown(portfolio_rets, start=100)\n",
    "max_drawdown = drawdowns.min()"
   ]
  },
  {
   "cell_type": "code",
   "execution_count": 38,
   "id": "372f9ddf-f68f-41a2-a4de-5c6d7a59da97",
   "metadata": {},
   "outputs": [
    {
     "data": {
      "text/plain": [
       "Wealth       91.403776\n",
       "Peaks       100.548031\n",
       "Drawdown     -0.210893\n",
       "dtype: float64"
      ]
     },
     "execution_count": 38,
     "metadata": {},
     "output_type": "execute_result"
    }
   ],
   "source": [
    "max_drawdown"
   ]
  },
  {
   "cell_type": "code",
   "execution_count": 41,
   "id": "66c55f08-fe09-42b9-944d-7998a4f015b0",
   "metadata": {},
   "outputs": [],
   "source": [
    "wealth_index = f.compound_returns(portfolio_rets, start=100)"
   ]
  },
  {
   "cell_type": "code",
   "execution_count": 43,
   "id": "4c39f278-4704-44ab-b236-17b038ef0f8a",
   "metadata": {},
   "outputs": [],
   "source": [
    "running_max = wealth_index.cummax()"
   ]
  },
  {
   "cell_type": "code",
   "execution_count": 47,
   "id": "5c558a4f-444a-4011-9461-2fd313ec681f",
   "metadata": {},
   "outputs": [
    {
     "data": {
      "image/png": "[encoded data removed]",
      "text/plain": [
       "<Figure size 1200x600 with 1 Axes>"
      ]
     },
     "metadata": {},
     "output_type": "display_data"
    }
   ],
   "source": [
    "plt.figure(figsize=(12, 6))\n",
    "\n",
    "plt.plot(wealth_index, label=\"Wealth Index\", color=\"blue\")\n",
    "plt.plot(running_max, label=\"Running Maximum\", linestyle=\"--\", color=\"green\")\n",
    "plt.fill_between(drawdowns.index, wealth_index, running_max, color=\"red\", alpha=0.3, label=\"Drawdown\")\n",
    "\n",
    "\n",
    "plt.title(\"Wealth Index and Drawdowns Over Time\")\n",
    "plt.xlabel(\"Time\")\n",
    "plt.ylabel(\"Portfolio Value\")\n",
    "plt.legend()\n",
    "plt.show()"
   ]
  },
  {
   "cell_type": "code",
   "execution_count": null,
   "id": "b17a4ace-f965-4614-8f78-9fb02e7d5641",
   "metadata": {},
   "outputs": [],
   "source": []
  },
  {
   "cell_type": "code",
   "execution_count": null,
   "id": "fdd30c9c-76c4-4111-87d5-8555c06a2017",
   "metadata": {},
   "outputs": [],
   "source": []
  }
 ],
 "metadata": {
  "kernelspec": {
   "display_name": "Python 3 (ipykernel)",
   "language": "python",
   "name": "python3"
  },
  "language_info": {
   "codemirror_mode": {
    "name": "ipython",
    "version": 3
   },
   "file_extension": ".py",
   "mimetype": "text/x-python",
   "name": "python",
   "nbconvert_exporter": "python",
   "pygments_lexer": "ipython3",
   "version": "3.12.7"
  }
 },
 "nbformat": 4,
 "nbformat_minor": 5
}
